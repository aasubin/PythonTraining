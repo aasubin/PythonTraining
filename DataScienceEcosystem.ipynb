{
 "cells": [
  {
   "cell_type": "markdown",
   "id": "efaea0de-f437-48bb-988c-12515cfb6f2f",
   "metadata": {},
   "source": [
    "# Data Science Tools and Ecosystem"
   ]
  },
  {
   "cell_type": "markdown",
   "id": "2cb7cad6-5806-4b23-819b-140acc55a2c4",
   "metadata": {},
   "source": [
    "## Author \n",
    "Subin Aby"
   ]
  },
  {
   "cell_type": "markdown",
   "id": "bb1d69a0-4933-410a-a3c0-3df62adad7fb",
   "metadata": {},
   "source": [
    "In this notebook, Data Science Tools and Ecosystem are summarized."
   ]
  },
  {
   "cell_type": "markdown",
   "id": "6d6fabea-d032-4b11-b8e9-2ab85b3ea112",
   "metadata": {},
   "source": [
    "__Objectives__\n",
    "List popular languages for Data Science\n",
    "* Python\n",
    "* R\n",
    "* SQL\n",
    "* Julia"
   ]
  },
  {
   "cell_type": "markdown",
   "id": "2c5fae1b-3353-4b37-8d20-310358a13dac",
   "metadata": {},
   "source": [
    "Some of the popular languages that Data Scientists use are:\n",
    "1. Python\n",
    "2. R\n",
    "3. SQL\n",
    "4. Julia"
   ]
  },
  {
   "cell_type": "markdown",
   "id": "f14cc5d5-9e75-4344-a0f4-3ea96c7162d2",
   "metadata": {},
   "source": [
    "Some of the commonly used libraries used by Data Scientists include:\r",
    "1. Pandas\n",
    "2. Numpy\n",
    "3. dplyr\n",
    "4. ggplot2."
   ]
  },
  {
   "cell_type": "markdown",
   "id": "8e2b60e0-cbb2-4054-b288-52612cc1ce8c",
   "metadata": {},
   "source": [
    "|Data Science Tools|\n",
    "--------------------\n",
    "|R|\n",
    "|Python|\n",
    "|Julia|"
   ]
  },
  {
   "cell_type": "markdown",
   "id": "f1219f3f-7d74-4949-bb6d-3080f31a7640",
   "metadata": {},
   "source": [
    "### Below are a few examples of evaluating arithmetic expressions in Python."
   ]
  },
  {
   "cell_type": "code",
   "execution_count": 16,
   "id": "a2f85fdf-a2e7-4404-9eff-50d24ef43f45",
   "metadata": {},
   "outputs": [
    {
     "data": {
      "text/plain": [
       "17"
      ]
     },
     "execution_count": 16,
     "metadata": {},
     "output_type": "execute_result"
    }
   ],
   "source": [
    "# This a simple arithmetic expression to mutiply then add integers.\n",
    "(3*4)+5"
   ]
  },
  {
   "cell_type": "code",
   "execution_count": 1,
   "id": "4598d307-12d9-4412-80f9-25bc3958238e",
   "metadata": {},
   "outputs": [
    {
     "data": {
      "text/plain": [
       "3.3333333333333335"
      ]
     },
     "execution_count": 1,
     "metadata": {},
     "output_type": "execute_result"
    }
   ],
   "source": [
    "# This operation will convert 200 minutes to hours by diving by 60.\n",
    "200/60"
   ]
  },
  {
   "cell_type": "code",
   "execution_count": null,
   "id": "a0ca4201-4268-4016-acb3-22020612fcd7",
   "metadata": {},
   "outputs": [],
   "source": []
  }
 ],
 "metadata": {
  "kernelspec": {
   "display_name": "Python 3 (ipykernel)",
   "language": "python",
   "name": "python3"
  },
  "language_info": {
   "codemirror_mode": {
    "name": "ipython",
    "version": 3
   },
   "file_extension": ".py",
   "mimetype": "text/x-python",
   "name": "python",
   "nbconvert_exporter": "python",
   "pygments_lexer": "ipython3",
   "version": "3.10.13"
  }
 },
 "nbformat": 4,
 "nbformat_minor": 5
}
